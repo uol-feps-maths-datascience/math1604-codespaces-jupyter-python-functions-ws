{
 "cells": [
  {
   "cell_type": "markdown",
   "metadata": {},
   "source": [
    "In Python, `.pyc` files (compiled bytecode files) are generated automatically when a module is imported or executed. However, if you want to explicitly generate a `.pyc` file for your unit test (say, `test_clean_data.py`), you can use one of the following methods:\n",
    "\n",
    "---\n",
    "\n",
    "### 1. Using the `py_compile` Module\n",
    "\n",
    "You can compile a single Python file by running:\n",
    "\n",
    "```bash\n",
    "python -m py_compile test_clean_data.py\n",
    "```\n",
    "\n",
    "This command will compile `test_clean_data.py` and place the resulting `.pyc` file in the `__pycache__` directory. The filename will include details about the Python version (for example, `test_clean_data.cpython-39.pyc` for Python 3.9).\n",
    "\n",
    "---\n",
    "\n",
    "### 2. Using the `compileall` Module\n",
    "\n",
    "If you want to compile all Python files in a directory (for example, if you have multiple test files), run:\n",
    "\n",
    "```bash\n",
    "python -m compileall .\n",
    "```\n",
    "\n",
    "This command will recursively compile all `.py` files in the current directory and subdirectories, placing the `.pyc` files in the appropriate `__pycache__` directories.\n",
    "\n",
    "---\n",
    "\n",
    "### 3. Automatic Compilation on Import/Execution\n",
    "\n",
    "Remember that Python automatically generates `.pyc` files:\n",
    "- When you import a module, Python compiles it to bytecode and saves it in `__pycache__`.\n",
    "- When you run a script, Python creates the corresponding `.pyc` files if needed.\n",
    "\n",
    "So simply running your unit test file (if it's imported elsewhere) may also result in a `.pyc` file being generated automatically.\n",
    "\n",
    "---\n",
    "\n",
    "### Summary\n",
    "\n",
    "For a single file, the easiest approach is:\n",
    "\n",
    "```bash\n",
    "python -m py_compile test_clean_data.py\n",
    "```\n",
    "\n",
    "After running that command, check the `__pycache__` folder in the same directory to find your generated `.pyc` file.\n"
   ]
  }
 ],
 "metadata": {
  "language_info": {
   "name": "python"
  }
 },
 "nbformat": 4,
 "nbformat_minor": 2
}
